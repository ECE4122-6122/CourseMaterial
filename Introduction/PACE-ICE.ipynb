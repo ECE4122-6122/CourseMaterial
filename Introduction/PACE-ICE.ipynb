{
 "cells": [
  {
   "cell_type": "markdown",
   "metadata": {},
   "source": [
    "# <b><u>PACE-ICE</u></b>\n",
    "- Partnership for an Advanced Computing Environment (PACE)\n",
    "- Instructional Cluster Environment (ICE)\n",
    "- [`PACE-ICE`](https://pace.gatech.edu/)\n",
    "\n",
    "<div>\n",
    "    <p><img src=\"../Images/PACE-ICE-Overview.jpg\" height=\"1200\" width=\"800\" border=\"1px\"></p>\n",
    "</div>\n",
    "\n",
    "# HeadNodes vs Compute Nodes\n",
    "- Head Nodes: the machines you use to log in\n",
    "    - good for compiling, editing, degugging, etc...\n",
    "    - Not good for actual computation or visualization\n",
    "- Compute Nodes: the machines that run your jobs\n",
    "    - No direct access by users\n",
    "    - Allocated per-job by the MOAB scheduler"
   ]
  },
  {
   "cell_type": "markdown",
   "metadata": {},
   "source": [
    "---\n",
    "<div>\n",
    "    <p><img src=\"../Images/AccessingPACE-ICE.jpg\" height=\"1200\" width=\"800\" border=\"1px\"></p>\n",
    "</div>"
   ]
  },
  {
   "cell_type": "markdown",
   "metadata": {},
   "source": [
    "---\n",
    "### Logging into PACE-ICE\n",
    "- ssh yourusername@coc-ice.pace.gatech.edu\n",
    "- yourusername@coc-ice.pace.gatech.edu's password:\n",
    "\n",
    "<b>Last login: Wed May  6 16:50:57 2020 from frontend.gtri.gatech.edu\n",
    "Terms of Use</b>\n",
    "\n",
    "<b>This computer system is the property of Georgia Institute of\n",
    "Technology.  Any user of this system must comply with all Institute\n",
    "and Board of Regents policies, including the Acceptable Use\n",
    "Policy (AUP), Data Privacy Policy (DPP) and Cyber Security\n",
    "Policy (CSP), see http://b.gatech.edu/it-policies.  Users should\n",
    "have no expectation of privacy, as any and all files on this system\n",
    "may be intercepted, monitored, copied, inspected, and/or disclosed to\n",
    "authorized personel in order to meet institute obligations.</b>\n",
    "\n",
    "<b>By using this system, I acknowledge and consent to these terms.</b>\n",
    "\n",
    "<b>To see the current status of a queue, please run \"pace-check-queue <queue name>\".</b>\n",
    "\n",
    "<b>If you require assistance with this system, please run \"pace-support.sh\"</b>\n",
    "\n",
    "<b>[yourusername@coc-ice ~]$</b>"
   ]
  }
 ],
 "metadata": {
  "kernelspec": {
   "display_name": "Python 3",
   "language": "python",
   "name": "python3"
  },
  "language_info": {
   "codemirror_mode": {
    "name": "ipython",
    "version": 3
   },
   "file_extension": ".py",
   "mimetype": "text/x-python",
   "name": "python",
   "nbconvert_exporter": "python",
   "pygments_lexer": "ipython3",
   "version": "3.7.6"
  }
 },
 "nbformat": 4,
 "nbformat_minor": 4
}
