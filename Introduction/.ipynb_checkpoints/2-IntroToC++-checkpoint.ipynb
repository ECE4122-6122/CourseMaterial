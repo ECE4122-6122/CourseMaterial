{
 "cells": [
  {
   "cell_type": "markdown",
   "metadata": {},
   "source": [
    "<div>\n",
    "    <p style=\"float: right;\"><img src=\"../Images/ECE-Icon.jpg\" height=\"109px\" width=\"109\" border=\"1px\"></p>\n",
    "    <h1 align=\"center\"><b>ECE 4122/6122<br><br>C\\C++ Introduction</b></h1>\n",
    "</div>"
   ]
  },
  {
   "cell_type": "markdown",
   "metadata": {},
   "source": [
    "# Basics\n",
    "- **Reference Material**\n",
    "    - lots of online resources\n",
    "    - [`cplusplus.com`](http://www.cplusplus.com/doc/tutorial/)\n",
    "    - [`tutorialspoint cplusplus`](https://www.tutorialspoint.com/cplusplus/index.htm)\n",
    "    \n",
    "    \n",
    "- **Compilers**\n",
    "    - Microsoft Visual Studio\n",
    "    - CLion\n",
    "    - XCode\n",
    "    - gcc \n",
    "        - Linux based system should already be installed\n",
    "        - Windows systems minGW is an option\n",
    "    \n",
    "    \n",
    "    \n"
   ]
  },
  {
   "cell_type": "markdown",
   "metadata": {},
   "source": [
    "---\n",
    "# Start with GCC compiler\n",
    "- Used on PACE-ICE\n",
    "- Used on linux machines\n",
    "\n",
    "To see if it is installed just open a terminal and type in:<br>\n",
    "gcc --version\n",
    "<br>\n",
    "<p style=\"float: left;\"><img src=\"../Images/GCC-Version.jpg\" height=\"400px\" width=\"800\" border=\"1px\"></p>"
   ]
  },
  {
   "cell_type": "markdown",
   "metadata": {},
   "source": [
    "---\n",
    "# Compiling Files\n",
    "- g++ filename.cpp filename2.cpp\n",
    "    - generates an executable with the default name\n",
    "        - a.out on Linux\n",
    "        - a.exe on Window\n",
    "- Use wildcard symbols to compile multiple files\n",
    "    - g++ *.cpp\n",
    "- g++ filename.cpp <mark>-o app_name</mark>\n",
    "    - generates an executable\n",
    "        - app_name on Linux\n",
    "        - app_name.exe on Window\n"
   ]
  },
  {
   "cell_type": "markdown",
   "metadata": {},
   "source": [
    " ---\n",
    " # Program Structure\n",
    "     - main function\n",
    "     - single line comment\n",
    "     - block comment\n",
    " [`simple.cpp`](../Code/Intro/simple.cpp)"
   ]
  },
  {
   "cell_type": "code",
   "execution_count": 1,
   "metadata": {},
   "outputs": [],
   "source": [
    "!g++ -o Simplest ../Code/Intro/simple.cpp\n",
    "!Simplest.exe"
   ]
  },
  {
   "cell_type": "markdown",
   "metadata": {},
   "source": [
    "---\n",
    "# Simple Output Program\n",
    "    - #include <iostream>\n",
    "    - using namespace std\n",
    "    - :: scope resolution operator\n",
    "    - << insertion operator\n",
    "    - class \n",
    "[`simple_output.cpp`](../Code/Intro/simple_output.cpp)\n",
    "\n"
   ]
  },
  {
   "cell_type": "code",
   "execution_count": 3,
   "metadata": {},
   "outputs": [
    {
     "name": "stdout",
     "output_type": "stream",
     "text": [
      "Hello\n",
      "There\n"
     ]
    }
   ],
   "source": [
    "!g++ -o SimpleOutput ../Code/Intro/simple_output.cpp\n",
    "!SimpleOutput.exe"
   ]
  },
  {
   "cell_type": "markdown",
   "metadata": {},
   "source": [
    "---\n",
    "# [`Variables and Types`](http://www.cplusplus.com/doc/tutorial/variables/)\n"
   ]
  },
  {
   "cell_type": "code",
   "execution_count": 3,
   "metadata": {},
   "outputs": [
    {
     "data": {
      "text/html": [
       "\n",
       "        <iframe\n",
       "            width=\"100%\"\n",
       "            height=\"500px\"\n",
       "            src=\"http://www.cplusplus.com/doc/tutorial/variables/\"\n",
       "            frameborder=\"0\"\n",
       "            allowfullscreen\n",
       "        ></iframe>\n",
       "        "
      ],
      "text/plain": [
       "<IPython.lib.display.IFrame at 0x119f5659fc8>"
      ]
     },
     "execution_count": 3,
     "metadata": {},
     "output_type": "execute_result"
    }
   ],
   "source": [
    "from IPython.display import IFrame\n",
    "IFrame(src=\"http://www.cplusplus.com/doc/tutorial/variables/\", width='100%', height='500px')"
   ]
  },
  {
   "cell_type": "code",
   "execution_count": 3,
   "metadata": {},
   "outputs": [
    {
     "data": {
      "text/html": [
       "\n",
       "        <iframe\n",
       "            width=\"100%\"\n",
       "            height=\"700px\"\n",
       "            src=\"https://www.onlinegdb.com/edit/SkP1vlmq8\"\n",
       "            frameborder=\"0\"\n",
       "            allowfullscreen\n",
       "        ></iframe>\n",
       "        "
      ],
      "text/plain": [
       "<IPython.lib.display.IFrame at 0x2412e9adf88>"
      ]
     },
     "execution_count": 3,
     "metadata": {},
     "output_type": "execute_result"
    }
   ],
   "source": [
    "from IPython.display import IFrame\n",
    "IFrame(src=\"https://www.onlinegdb.com/edit/SkP1vlmq8\", width='100%', height='700px')"
   ]
  },
  {
   "cell_type": "code",
   "execution_count": null,
   "metadata": {},
   "outputs": [],
   "source": []
  }
 ],
 "metadata": {
  "kernelspec": {
   "display_name": "Python 3",
   "language": "python",
   "name": "python3"
  },
  "language_info": {
   "codemirror_mode": {
    "name": "ipython",
    "version": 3
   },
   "file_extension": ".py",
   "mimetype": "text/x-python",
   "name": "python",
   "nbconvert_exporter": "python",
   "pygments_lexer": "ipython3",
   "version": "3.7.6"
  }
 },
 "nbformat": 4,
 "nbformat_minor": 4
}
