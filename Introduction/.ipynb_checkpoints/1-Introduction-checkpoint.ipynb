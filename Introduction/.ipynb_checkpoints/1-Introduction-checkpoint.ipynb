{
 "cells": [
  {
   "cell_type": "markdown",
   "metadata": {},
   "source": [
    "<div>\n",
    "    <p style=\"float: right;\"><img src=\"../Images/ECE-Icon.jpg\" height=\"109px\" width=\"109\" border=\"1px\"></p>\n",
    "    <h1 align=\"center\"><b>ECE 4122/6122<br><br>Advanced Programming Techniques for Engineering Applications</b></h1>\n",
    "</div>"
   ]
  },
  {
   "cell_type": "markdown",
   "metadata": {},
   "source": [
    "<div line-height: 150%; align=\"center\"><h2><b>Fall 2020<br>Time: TR 8:25AM-9:15AM<br>Room: Clough Commons 152</b></h2></div>\n"
   ]
  },
  {
   "cell_type": "markdown",
   "metadata": {},
   "source": [
    "\n",
    "<div align=\"center\"><h2><b>Instructor: Dr. Jeff Hurley<br>GTRI<br>Office Hours: TR 9:30AM-10:30AM<br>email: jeffery.hurley@gtri.gatech.edu</b></h2></div>\n"
   ]
  },
  {
   "cell_type": "markdown",
   "metadata": {},
   "source": [
    "\n",
    "---\n",
    "# <b><u>Syllabus</u></b>\n"
   ]
  },
  {
   "cell_type": "markdown",
   "metadata": {},
   "source": [
    "\n",
    "## <b>Prerequisites:</b>\n",
    "### - ECE6122: None\n",
    "### - ECE4122: Undergraduate Semester level ECE 2035 Min. Grade of C or Undergraduate Semester level ECE 2036 (Min. Grade of C)"
   ]
  },
  {
   "cell_type": "markdown",
   "metadata": {},
   "source": [
    "## <b>Description:</b>\n",
    "### Course covers a number of programming techniques for distributed and parallel computing and other advanced methods, such as sockets, GPU/HPC programming, 3D Visualization, design patterns, etc…"
   ]
  },
  {
   "cell_type": "markdown",
   "metadata": {},
   "source": [
    "## <b>Textbook:</b>\n",
    "### - Just using online resources since so many topics are covered"
   ]
  },
  {
   "cell_type": "markdown",
   "metadata": {},
   "source": [
    "---\n",
    "## <b>Assignments and Grading</b>\n",
    "### - 7 programming assignments (70%)\n",
    "### - Final Project (30%)\n",
    "\n",
    "## <b>Final grades will be assigned (rounding-up) to whole numbers according to:</b>\n",
    "### - A = 90 to 100+\n",
    "### - B = 80 to 89\n",
    "### - C = 70 to 79\n",
    "### - D = 60 to 69\n",
    "### - F = 0 to 59"
   ]
  },
  {
   "cell_type": "markdown",
   "metadata": {},
   "source": [
    "## <b>Assignments and Grading</b>\n",
    "### - 7 programming assignments (70%)\n",
    "### - Final Project (30%)\n",
    "\n",
    "\n",
    "\n",
    "## <b><u>If possible bring your laptop to class so that you can work along</u></b><br><br><br><br><br><br>\n",
    "\n",
    "\n",
    "\n",
    "\n",
    "\n"
   ]
  },
  {
   "cell_type": "markdown",
   "metadata": {},
   "source": [
    "---\n",
    "## <b>Academic Honesty:<b>\n",
    "\n",
    "- Although students are encouraged strongly to work together to learn the course material, all students are expected to <mark>program assignments individually</mark>, following all instructions stated in conjunction with the assignments. \n",
    "- You <mark>MAY NOT</mark> copy code from others in any way. \n",
    "- You <mark>MAY NOT</mark> use solutions that others have developed as the sole basis for your solutions. However, you ARE allowed to discuss the problems with others, including fellow students, teaching assistants, and the instructor. \n",
    "- Automatic plagiarism detection algorithms will be used to compare source code against all students in the course. \n",
    "- You ARE allowed to solicit and obtain help in design and debugging your solutions. \n",
    "- You CAN show others your BROKEN code and ask for advice about why it is not working or how to make it work better. But to be totally clear, you MUST implement your own solution. If someone helps you, <mark>YOU still MUST enter every line of code of your solution personally</mark>, and you MUST fully understand every part of your submission. \n",
    "- Students should be prepared to explain the solution to an assignment. \n",
    "- All conduct in this course will be governed by the <u>[`Georgia Tech honor code`](http://www.policylibrary.gatech.edu/student-affairs/academic-honor-code\n",
    ")</u>. \n",
    "- Additionally, it is expected that students will respect their peers and the instructor such that no one takes unfair advantage of any other person associated with the course. \n",
    "- Any suspected cases of academic dishonesty will be reported to the Dean of Students for further action. "
   ]
  },
  {
   "cell_type": "markdown",
   "metadata": {},
   "source": [
    "---\n",
    "## Tentative Schedule:\n",
    "<div>\n",
    "<table>\n",
    "  <tr>\n",
    "    <th>Week</th>\n",
    "    <th>Topic</th>\n",
    "    <th>Assignment</th>\n",
    "    <th>General Info</th>\n",
    "  </tr>\n",
    "  <tr>\n",
    "    <td>Week 1 (Aug 18<sup>th</sup>/ 20<sup>th</sup>)</td>\n",
    "    <td>Introduction and C\\C++ Review</td>\n",
    "    <td></td>\n",
    "    <td></td>\n",
    "  </tr>\n",
    "  <tr>\n",
    "    <td>Week 2 (Aug 25<sup>th</sup>/ 27<sup>th</sup>)</td>\n",
    "    <td></td>\n",
    "    <td>Lab 0 PACE-ICE Access (5%)</td>\n",
    "    <td></td>\n",
    "  </tr>\n",
    "  <tr>\n",
    "    <td>Week 3 (Sept 1<sup>st</sup>/ 3<sup>rd</sup>)</td>\n",
    "    <td></td>\n",
    "    <td></td>\n",
    "    <td></td>\n",
    "  </tr>\n",
    "  <tr>\n",
    "    <td>Week 4 (Sept 8<sup>th</sup>/ 10<sup>th</sup>)</td>\n",
    "    <td></td>\n",
    "    <td>Lab 1 Multi-Threading (10%)</td>\n",
    "    <td></td>\n",
    "  </tr>\n",
    "  <tr>\n",
    "    <td>Week 5 (Sept 15<sup>th</sup>/17<sup>th</sup>)</td>\n",
    "    <td></td>\n",
    "    <td></td>\n",
    "    <td></td>\n",
    "  </tr>\n",
    "  <tr>\n",
    "    <td>Week 6 (Sept 22<sup>nd</sup>/ 24<sup>th</sup>)</td>\n",
    "    <td></td>\n",
    "    <td>Lab 2 OpenMP (10%)</td>\n",
    "    <td></td>\n",
    "  </tr>\n",
    "  <tr>\n",
    "    <td>Week 7 (Sept 29<sup>th</sup>/ Oct 1<sup>st</sup>)</td>\n",
    "    <td></td>\n",
    "    <td></td>\n",
    "    <td></td>\n",
    "  </tr>\n",
    "  <tr>\n",
    "    <td>Week 8 (Oct 6<sup>th</sup>/ 8<sup>th</sup>)</td>\n",
    "    <td>Fall Break/topic</td>\n",
    "    <td></td>\n",
    "    <td></td>\n",
    "  </tr>\n",
    "  <tr>\n",
    "    <td>Week 9 (Oct 13<sup>th</sup>/ 8<sup>th</sup>)</td>\n",
    "    <td></td>\n",
    "    <td>Lab 3 OpenGL (10%)</td>\n",
    "    <td></td>\n",
    "  </tr>\n",
    "  <tr>\n",
    "    <td>Week 10 (Oct 20<sup>th</sup>/ 22<sup>nd</sup>)</td>\n",
    "    <td></td>\n",
    "    <td>Lab 4 Sockets (10%)</td>\n",
    "    <td>Oct 24<sup>th</sup> Withdrawl Deadline</td>\n",
    "  </tr>\n",
    "  <tr>\n",
    "    <td>Week 11 (Oct 27<sup>th</sup>/ 29<sup>th</sup>)</td>\n",
    "    <td></td>\n",
    "    <td></td>\n",
    "    <td></td>\n",
    "  </tr>\n",
    "  <tr>\n",
    "    <td>Week 12 (Nov 3<sup>rd</sup>/ 5<sup>th</sup>)</td>\n",
    "    <td></td>\n",
    "    <td>Lab 5 MPI (10%)</td>\n",
    "    <td></td>\n",
    "  </tr>\n",
    "  <tr>\n",
    "    <td>Week 13 (Nov 10<sup>th</sup>/ 12<sup>th</sup>)</td>\n",
    "    <td></td>\n",
    "    <td></td>\n",
    "    <td></td>\n",
    "  </tr>\n",
    "  <tr>\n",
    "    <td>Week 14 (Nov 17<sup>th</sup>/ 19<sup>th</sup>)</td>\n",
    "    <td></td>\n",
    "    <td>Lab 6 GPU (15%)</td>\n",
    "    <td></td>\n",
    "  </tr>\n",
    "  <tr>\n",
    "    <td>Week 15 (Nov 24<sup>th</sup>/ 26<sup>th</sup>)</td>\n",
    "    <td>topic/Thanksgiving Day</td>\n",
    "    <td></td>\n",
    "    <td></td>\n",
    "  </tr>\n",
    "  <tr>\n",
    "    <td>Week 16 (Dec 1<sup>st</sup></td>\n",
    "    <td>Wrap Up</td>\n",
    "    <td>Final Project (30%)</td>\n",
    "    <td>Last Day of Class</td>\n",
    "  </tr>\n",
    "  </table>\n",
    "</div>"
   ]
  },
  {
   "cell_type": "markdown",
   "metadata": {},
   "source": [
    "---\n",
    "## Operating Systems\n",
    "- Two main systems used today\n",
    "    - Microsoft Windows\n",
    "    - Linux\n",
    "- In class, we will be using both. \n",
    "- <mark>Assignments must be written in C/C++ and run on the PACE-ICE system.</mark>\n",
    "- Every student should have a PACE-ICE account. Make sure you can login.\n",
    "- You can use a local IDE to write and debug a lot of your code but the final submitted version must work on the PACE-ICE system (unless otherwise noted), since that will be used by the TAs to grade the assignments.\n"
   ]
  },
  {
   "cell_type": "markdown",
   "metadata": {},
   "source": [
    "---\n",
    "## Editors\n",
    "- Linux editors: nano, vi, and emacs. \n",
    "- Windows editors: Simple text editors, such as Notepad, Notepad++\n",
    "- Integrated Development Environments (IDEs)\n",
    "    - Provide tools that support the software-development process, including editors for writing and editing programs and debuggers for locating logic errors—errors that cause programs to execute incorrectly.\n",
    "    - C++ software packages for Microsoft Windows such as [`Microsoft Visual C++`](https://visualstudio.microsoft.com/free-developer-offers/) have editors integrated into the programming environment.\n",
    "    - [`CLion`](https://www.jetbrains.com/clion/)\n"
   ]
  }
 ],
 "metadata": {
  "kernelspec": {
   "display_name": "Python 3",
   "language": "python",
   "name": "python3"
  },
  "language_info": {
   "codemirror_mode": {
    "name": "ipython",
    "version": 3
   },
   "file_extension": ".py",
   "mimetype": "text/x-python",
   "name": "python",
   "nbconvert_exporter": "python",
   "pygments_lexer": "ipython3",
   "version": "3.7.6"
  }
 },
 "nbformat": 4,
 "nbformat_minor": 4
}
